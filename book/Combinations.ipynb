{
 "cells": [
  {
   "cell_type": "markdown",
   "metadata": {},
   "source": [
    "# Performing a Combination\n",
    "\n",
    "We'll demonstrate how a combination works by combining everything we've learned so far.\n",
    "\n",
    "## Loading the Workspace\n",
    "\n",
    "To do so, we'll use a simple workspace to demonstrate functionality of combinations."
   ]
  },
  {
   "cell_type": "code",
   "execution_count": 1,
   "metadata": {},
   "outputs": [],
   "source": [
    "import json\n",
    "\n",
    "spec = json.load(open(\"data/2-bin_1-channel.json\"))"
   ]
  },
  {
   "cell_type": "code",
   "execution_count": 2,
   "metadata": {},
   "outputs": [],
   "source": [
    "import pyhf\n",
    "\n",
    "workspace = pyhf.Workspace(spec)"
   ]
  },
  {
   "cell_type": "markdown",
   "metadata": {},
   "source": [
    "## Combine Workspaces\n",
    "\n",
    "Let's just try to combine naively right now."
   ]
  },
  {
   "cell_type": "code",
   "execution_count": 3,
   "metadata": {
    "tags": [
     "raises-exception"
    ]
   },
   "outputs": [
    {
     "ename": "InvalidWorkspaceOperation",
     "evalue": "Workspaces cannot have any channels in common with the same name: {'singlechannel'}. You can also try a different join operation: ['none', 'outer', 'left outer', 'right outer'].",
     "output_type": "error",
     "traceback": [
      "\u001b[0;31m---------------------------------------------------------------------------\u001b[0m",
      "\u001b[0;31mInvalidWorkspaceOperation\u001b[0m                 Traceback (most recent call last)",
      "\u001b[0;32m<ipython-input-3-4480a7c227be>\u001b[0m in \u001b[0;36m<module>\u001b[0;34m\u001b[0m\n\u001b[0;32m----> 1\u001b[0;31m \u001b[0mpyhf\u001b[0m\u001b[0;34m.\u001b[0m\u001b[0mWorkspace\u001b[0m\u001b[0;34m.\u001b[0m\u001b[0mcombine\u001b[0m\u001b[0;34m(\u001b[0m\u001b[0mworkspace\u001b[0m\u001b[0;34m,\u001b[0m \u001b[0mworkspace\u001b[0m\u001b[0;34m)\u001b[0m\u001b[0;34m\u001b[0m\u001b[0;34m\u001b[0m\u001b[0m\n\u001b[0m",
      "\u001b[0;32m~/.venvs/louie-test/lib/python3.7/site-packages/pyhf/workspace.py\u001b[0m in \u001b[0;36mcombine\u001b[0;34m(cls, left, right, join)\u001b[0m\n\u001b[1;32m    701\u001b[0m \u001b[0;34m\u001b[0m\u001b[0m\n\u001b[1;32m    702\u001b[0m         \u001b[0mnew_version\u001b[0m \u001b[0;34m=\u001b[0m \u001b[0m_join_versions\u001b[0m\u001b[0;34m(\u001b[0m\u001b[0mjoin\u001b[0m\u001b[0;34m,\u001b[0m \u001b[0mleft\u001b[0m\u001b[0;34m[\u001b[0m\u001b[0;34m'version'\u001b[0m\u001b[0;34m]\u001b[0m\u001b[0;34m,\u001b[0m \u001b[0mright\u001b[0m\u001b[0;34m[\u001b[0m\u001b[0;34m'version'\u001b[0m\u001b[0;34m]\u001b[0m\u001b[0;34m)\u001b[0m\u001b[0;34m\u001b[0m\u001b[0;34m\u001b[0m\u001b[0m\n\u001b[0;32m--> 703\u001b[0;31m         \u001b[0mnew_channels\u001b[0m \u001b[0;34m=\u001b[0m \u001b[0m_join_channels\u001b[0m\u001b[0;34m(\u001b[0m\u001b[0mjoin\u001b[0m\u001b[0;34m,\u001b[0m \u001b[0mleft\u001b[0m\u001b[0;34m[\u001b[0m\u001b[0;34m'channels'\u001b[0m\u001b[0;34m]\u001b[0m\u001b[0;34m,\u001b[0m \u001b[0mright\u001b[0m\u001b[0;34m[\u001b[0m\u001b[0;34m'channels'\u001b[0m\u001b[0;34m]\u001b[0m\u001b[0;34m)\u001b[0m\u001b[0;34m\u001b[0m\u001b[0;34m\u001b[0m\u001b[0m\n\u001b[0m\u001b[1;32m    704\u001b[0m         new_observations = _join_observations(\n\u001b[1;32m    705\u001b[0m             \u001b[0mjoin\u001b[0m\u001b[0;34m,\u001b[0m \u001b[0mleft\u001b[0m\u001b[0;34m[\u001b[0m\u001b[0;34m'observations'\u001b[0m\u001b[0;34m]\u001b[0m\u001b[0;34m,\u001b[0m \u001b[0mright\u001b[0m\u001b[0;34m[\u001b[0m\u001b[0;34m'observations'\u001b[0m\u001b[0;34m]\u001b[0m\u001b[0;34m\u001b[0m\u001b[0;34m\u001b[0m\u001b[0m\n",
      "\u001b[0;32m~/.venvs/louie-test/lib/python3.7/site-packages/pyhf/workspace.py\u001b[0m in \u001b[0;36m_join_channels\u001b[0;34m(join, left_channels, right_channels)\u001b[0m\n\u001b[1;32m     99\u001b[0m         \u001b[0;32mif\u001b[0m \u001b[0mcommon_channels\u001b[0m\u001b[0;34m:\u001b[0m\u001b[0;34m\u001b[0m\u001b[0;34m\u001b[0m\u001b[0m\n\u001b[1;32m    100\u001b[0m             raise exceptions.InvalidWorkspaceOperation(\n\u001b[0;32m--> 101\u001b[0;31m                 \u001b[0;34mf\"Workspaces cannot have any channels in common with the same name: {common_channels}. You can also try a different join operation: {Workspace.valid_joins}.\"\u001b[0m\u001b[0;34m\u001b[0m\u001b[0;34m\u001b[0m\u001b[0m\n\u001b[0m\u001b[1;32m    102\u001b[0m             )\n\u001b[1;32m    103\u001b[0m \u001b[0;34m\u001b[0m\u001b[0m\n",
      "\u001b[0;31mInvalidWorkspaceOperation\u001b[0m: Workspaces cannot have any channels in common with the same name: {'singlechannel'}. You can also try a different join operation: ['none', 'outer', 'left outer', 'right outer']."
     ]
    }
   ],
   "source": [
    "pyhf.Workspace.combine(workspace, workspace)"
   ]
  },
  {
   "cell_type": "markdown",
   "metadata": {},
   "source": [
    "As we can see, we can't just combine a workspace with itself if it has some channel names in common. We try very hard in `pyhf` to make sure a combination \"makes sense\".\n",
    "\n",
    "Let's go ahead and rename the channel (as well as the measurement). Then try to combine."
   ]
  },
  {
   "cell_type": "code",
   "execution_count": 4,
   "metadata": {},
   "outputs": [],
   "source": [
    "other_workspace = workspace.rename(channels={'singlechannel': 'othersinglechannel'},\n",
    "                                   modifiers={'uncorr_bkguncrt': 'otheruncorr_bkguncrt'},\n",
    "                                   measurements={'Measurement': 'OtherMeasurement'})\n",
    "\n",
    "combined_workspace = pyhf.Workspace.combine(workspace, other_workspace)"
   ]
  },
  {
   "cell_type": "markdown",
   "metadata": {},
   "source": [
    "And did we combine?"
   ]
  },
  {
   "cell_type": "code",
   "execution_count": 5,
   "metadata": {},
   "outputs": [
    {
     "name": "stdout",
     "output_type": "stream",
     "text": [
      "    channels: ['othersinglechannel', 'singlechannel']\n",
      "       nbins: {'singlechannel': 2, 'othersinglechannel': 2}\n",
      "     samples: ['background', 'signal']\n",
      "   modifiers: [('mu', 'normfactor'), ('otheruncorr_bkguncrt', 'shapesys'), ('uncorr_bkguncrt', 'shapesys')]\n",
      "  parameters: ['mu', 'otheruncorr_bkguncrt', 'uncorr_bkguncrt']\n",
      "measurements: ['Measurement', 'OtherMeasurement']\n"
     ]
    }
   ],
   "source": [
    "print(f'    channels: {combined_workspace.channels}')\n",
    "print(f'       nbins: {combined_workspace.channel_nbins}')\n",
    "print(f'     samples: {combined_workspace.samples}')\n",
    "print(f'   modifiers: {combined_workspace.modifiers}')\n",
    "print(f'  parameters: {combined_workspace.parameters}')\n",
    "print(f'measurements: {combined_workspace.measurement_names}')"
   ]
  },
  {
   "cell_type": "markdown",
   "metadata": {},
   "source": [
    "Indeed. And at this point, we can just use all the same functionality we expect of pyhf, such as performing a fit:"
   ]
  },
  {
   "cell_type": "code",
   "execution_count": 6,
   "metadata": {},
   "outputs": [
    {
     "data": {
      "text/plain": [
       "array(0.48563995)"
      ]
     },
     "execution_count": 6,
     "metadata": {},
     "output_type": "execute_result"
    }
   ],
   "source": [
    "model = workspace.model()\n",
    "data = workspace.data(model)\n",
    "\n",
    "pyhf.infer.hypotest(1.0, data, model, qtilde=True)"
   ]
  },
  {
   "cell_type": "code",
   "execution_count": 7,
   "metadata": {},
   "outputs": [
    {
     "data": {
      "text/plain": [
       "array(0.48563995)"
      ]
     },
     "execution_count": 7,
     "metadata": {},
     "output_type": "execute_result"
    }
   ],
   "source": [
    "other_model = other_workspace.model()\n",
    "other_data = other_workspace.data(other_model)\n",
    "\n",
    "pyhf.infer.hypotest(1.0, other_data, other_model, qtilde=True)"
   ]
  },
  {
   "cell_type": "code",
   "execution_count": 8,
   "metadata": {},
   "outputs": [
    {
     "name": "stderr",
     "output_type": "stream",
     "text": [
      "multiple measurements defined. Taking the first measurement.\n"
     ]
    },
    {
     "data": {
      "text/plain": [
       "array(0.35661112)"
      ]
     },
     "execution_count": 8,
     "metadata": {},
     "output_type": "execute_result"
    }
   ],
   "source": [
    "combined_model = combined_workspace.model()\n",
    "combined_data = combined_workspace.data(combined_model)\n",
    "\n",
    "pyhf.infer.hypotest(1.0, combined_data, combined_model, qtilde=True)"
   ]
  },
  {
   "cell_type": "code",
   "execution_count": null,
   "metadata": {},
   "outputs": [],
   "source": []
  }
 ],
 "metadata": {
  "kernelspec": {
   "display_name": "Python 3",
   "language": "python",
   "name": "python3"
  },
  "language_info": {
   "codemirror_mode": {
    "name": "ipython",
    "version": 3
   },
   "file_extension": ".py",
   "mimetype": "text/x-python",
   "name": "python",
   "nbconvert_exporter": "python",
   "pygments_lexer": "ipython3",
   "version": "3.7.5"
  }
 },
 "nbformat": 4,
 "nbformat_minor": 4
}
