{
 "cells": [
  {
   "cell_type": "markdown",
   "metadata": {},
   "source": [
    "# Making a Pull Plot\n",
    "\n",
    "Let's use a background-only workspace that we've bundled with the tutorial. It's a little bit more complicated than the simple workspace we've seen in the past, but it will be a bit easier to demonstrate the efficacy of pulls this way."
   ]
  },
  {
   "cell_type": "markdown",
   "metadata": {},
   "source": [
    "## Loading the workspace"
   ]
  },
  {
   "cell_type": "code",
   "execution_count": 1,
   "metadata": {},
   "outputs": [],
   "source": [
    "import pyhf\n",
    "import json\n",
    "import numpy as np\n",
    "\n",
    "with open(\"data/bkg_only.json\") as serialized:\n",
    "  spec = json.load(serialized)\n",
    "\n",
    "workspace = pyhf.Workspace(spec)"
   ]
  },
  {
   "cell_type": "markdown",
   "metadata": {},
   "source": [
    "### Model and Data"
   ]
  },
  {
   "cell_type": "code",
   "execution_count": 2,
   "metadata": {},
   "outputs": [],
   "source": [
    "model = workspace.model(\n",
    "    modifier_settings={\n",
    "        \"normsys\": {\"interpcode\": \"code4\"},\n",
    "        \"histosys\": {\"interpcode\": \"code4p\"},\n",
    "    },\n",
    "    poi_name=None # background-only!\n",
    ")\n",
    "data = workspace.data(model)"
   ]
  },
  {
   "cell_type": "markdown",
   "metadata": {},
   "source": [
    "## Making a Pull Plot\n",
    "\n",
    "We need to use minuit in order to perform the fits. So first we'll set our backends to use numpy and minuit. Then we'll do a bunch of setup to make it easier to compute the pulls. Work is on-going in `pyhf` to streamline this a bit more and put it into `pyhf.contrib`.\n",
    "\n",
    "Unlike the `scipy` optimizer, `minuit` provides the uncertainties on the parameters which we need for the pulls."
   ]
  },
  {
   "cell_type": "code",
   "execution_count": 3,
   "metadata": {},
   "outputs": [],
   "source": [
    "pyhf.set_backend('numpy', 'minuit')"
   ]
  },
  {
   "cell_type": "markdown",
   "metadata": {},
   "source": [
    "### Performing the Fit\n",
    "\n",
    "In the past, we've done a hypothesis test which does multiple fits, both constrained and unconstrained fits. Instead, we will need to perform an unconstrained fit on the background in order to determine the fluctuation of all the parameters and the corresponding pulls."
   ]
  },
  {
   "cell_type": "code",
   "execution_count": 4,
   "metadata": {},
   "outputs": [],
   "source": [
    "result = pyhf.infer.mle.fit(\n",
    "    data,\n",
    "    model,\n",
    "    return_uncertainties=True\n",
    ")"
   ]
  },
  {
   "cell_type": "markdown",
   "metadata": {},
   "source": [
    "With `return_uncertainties=True`, we return, instead of just a 1-dimensional vector of the fitted parameter values, a 2-dimensional vector including the fitted parameter uncertainties as well."
   ]
  },
  {
   "cell_type": "code",
   "execution_count": 5,
   "metadata": {},
   "outputs": [
    {
     "data": {
      "text/plain": [
       "array([[-0.20539975,  0.98833827],\n",
       "       [-0.16386659,  0.97922859],\n",
       "       [-0.02117485,  0.9927666 ],\n",
       "       [-0.0386397 ,  1.0883845 ],\n",
       "       [ 0.        ,  0.99334679]])"
      ]
     },
     "execution_count": 5,
     "metadata": {},
     "output_type": "execute_result"
    }
   ],
   "source": [
    "result[:5]"
   ]
  },
  {
   "cell_type": "markdown",
   "metadata": {},
   "source": [
    "So let's split this up to handle."
   ]
  },
  {
   "cell_type": "code",
   "execution_count": 6,
   "metadata": {},
   "outputs": [],
   "source": [
    "bestfit, errors = result.T"
   ]
  },
  {
   "cell_type": "markdown",
   "metadata": {},
   "source": [
    "### Normalize to natural width\n",
    "\n",
    "Now we need to compute the pulls. In order to do so, we need to determine the constrained parameters of the model. We can do this by looping over the ordered parameters of the model. `pyhf` maintains a particular order of the parameters as we load them up into a large tensor in a specific order. So we can access this same order of the fitted parameters to the parameter names using `pyhf.Model.config.par_order`:"
   ]
  },
  {
   "cell_type": "code",
   "execution_count": 7,
   "metadata": {},
   "outputs": [
    {
     "data": {
      "text/plain": [
       "['EG_Eff',\n",
       " 'EG_Iso',\n",
       " 'EG_Reco',\n",
       " 'EG_RESOLUTION_ALL',\n",
       " 'EG_SCALE_AF2',\n",
       " 'EG_SCALE_ALL',\n",
       " 'JER_DataVsMC',\n",
       " 'JER_EffectiveNP_1',\n",
       " 'JER_EffectiveNP_10',\n",
       " 'JER_EffectiveNP_11',\n",
       " 'JER_EffectiveNP_12restTerm',\n",
       " 'JER_EffectiveNP_2',\n",
       " 'JER_EffectiveNP_3',\n",
       " 'JER_EffectiveNP_4',\n",
       " 'JER_EffectiveNP_5',\n",
       " 'JER_EffectiveNP_6',\n",
       " 'JER_EffectiveNP_7',\n",
       " 'JER_EffectiveNP_8',\n",
       " 'JER_EffectiveNP_9']"
      ]
     },
     "execution_count": 7,
     "metadata": {},
     "output_type": "execute_result"
    }
   ],
   "source": [
    "model.config.par_order"
   ]
  },
  {
   "cell_type": "markdown",
   "metadata": {},
   "source": [
    "So first, we'll compute the pulls. This is done by calculating the difference between the fitted parameter value, the initial value, and divide by the width of that constrained parameter\n",
    "\n",
    "$$\n",
    "\\text{pull} = \\frac{\\hat{\\chi} - \\chi}{\\sigma}\n",
    "$$"
   ]
  },
  {
   "cell_type": "code",
   "execution_count": 8,
   "metadata": {},
   "outputs": [],
   "source": [
    "pulls = pyhf.tensorlib.concatenate(\n",
    "    [\n",
    "        (bestfit[model.config.par_slice(k)] - model.config.param_set(k).suggested_init)\n",
    "        / model.config.param_set(k).width()\n",
    "        for k in model.config.par_order\n",
    "        if model.config.param_set(k).constrained\n",
    "    ]\n",
    ")"
   ]
  },
  {
   "cell_type": "markdown",
   "metadata": {},
   "source": [
    "We can also do this similarly for the error on the parameter as well:"
   ]
  },
  {
   "cell_type": "code",
   "execution_count": 9,
   "metadata": {},
   "outputs": [],
   "source": [
    "pullerr = pyhf.tensorlib.concatenate(\n",
    "    [\n",
    "        errors[model.config.par_slice(k)] / model.config.param_set(k).width()\n",
    "        for k in model.config.par_order\n",
    "        if model.config.param_set(k).constrained\n",
    "    ]\n",
    ")"
   ]
  },
  {
   "cell_type": "markdown",
   "metadata": {},
   "source": [
    "Finally, we just need to create a set of labels for the parameters that were constrained that we are showing pulls for."
   ]
  },
  {
   "cell_type": "code",
   "execution_count": 10,
   "metadata": {},
   "outputs": [],
   "source": [
    "labels = np.asarray(\n",
    "    [\n",
    "        \"{}[{}]\".format(k, i) if model.config.param_set(k).n_parameters > 1 else k\n",
    "        for k in model.config.par_order\n",
    "        if model.config.param_set(k).constrained\n",
    "        for i in range(model.config.param_set(k).n_parameters)\n",
    "    ]\n",
    ")"
   ]
  },
  {
   "cell_type": "markdown",
   "metadata": {},
   "source": [
    "### Order Results\n",
    "\n",
    "Now we need to sort the labels in alphabetical order to make things easier for the user to read. We'll figure out the sort order we need using `np.argsort` and apply that ordering to everything we've created."
   ]
  },
  {
   "cell_type": "code",
   "execution_count": 11,
   "metadata": {},
   "outputs": [],
   "source": [
    "_order = np.argsort(labels)\n",
    "bestfit = bestfit[_order]\n",
    "errors = errors[_order]\n",
    "labels = labels[_order]\n",
    "pulls = pulls[_order]\n",
    "pullerr = pullerr[_order]"
   ]
  },
  {
   "cell_type": "markdown",
   "metadata": {},
   "source": [
    "### Plotting Results\n",
    "\n",
    "Now we can finally make a plot to appease our supervisor!"
   ]
  },
  {
   "cell_type": "code",
   "execution_count": 12,
   "metadata": {},
   "outputs": [
    {
     "name": "stderr",
     "output_type": "stream",
     "text": [
      "/home/feickert/.venvs/louie-test/lib/python3.7/site-packages/ipykernel_launcher.py:7: UserWarning: FixedFormatter should only be used together with FixedLocator\n",
      "  import sys\n"
     ]
    },
    {
     "data": {
      "image/png": "[encoded data removed]",
      "text/plain": [
       "<Figure size 1440x360 with 1 Axes>"
      ]
     },
     "metadata": {
      "needs_background": "light"
     },
     "output_type": "display_data"
    }
   ],
   "source": [
    "import matplotlib.pyplot as plt\n",
    "\n",
    "fig, ax = plt.subplots()\n",
    "fig.set_size_inches(20, 5)\n",
    "\n",
    "# set up axes labeling, ranges, etc...\n",
    "ax.set_xticklabels(labels, rotation=90)\n",
    "ax.set_xlim(-0.5, len(pulls) - 0.5)\n",
    "ax.set_title(\"Pull Plot\", fontsize=18)\n",
    "ax.set_ylabel(r\"$(\\theta - \\hat{\\theta})\\,/ \\Delta \\theta$\", fontsize=18)\n",
    "\n",
    "# let's make the +/- 2.0 horizontal lines\n",
    "ax.hlines([-2, 2], -0.5, len(pulls) - 0.5, colors=\"k\", linestyles=\"dotted\")\n",
    "# let's make the +/- 1.0 horizontal lines\n",
    "ax.hlines([-1, 1], -0.5, len(pulls) - 0.5, colors=\"k\", linestyles=\"dashdot\")\n",
    "# let's make the +/- 2.0 sigma band\n",
    "ax.fill_between([-0.5, len(pulls) - 0.5], [-2, -2], [2, 2], facecolor=\"yellow\")\n",
    "# let's make the +/- 1.0 sigma band\n",
    "ax.fill_between([-0.5, len(pulls) - 0.5], [-1, -1], [1, 1], facecolor=\"green\")\n",
    "# let's draw a horizontal line at pull=0.0\n",
    "ax.hlines([0], -0.5, len(pulls) - 0.5, colors=\"k\", linestyles=\"dashed\")\n",
    "# finally draw the pulls\n",
    "ax.scatter(range(len(pulls)), pulls, c=\"k\")\n",
    "# and their errors\n",
    "ax.errorbar(\n",
    "    range(len(pulls)), pulls, c=\"k\", xerr=0, yerr=pullerr, marker=\".\", fmt=\"none\"\n",
    ");"
   ]
  },
  {
   "cell_type": "code",
   "execution_count": null,
   "metadata": {},
   "outputs": [],
   "source": []
  }
 ],
 "metadata": {
  "kernelspec": {
   "display_name": "Python 3",
   "language": "python",
   "name": "python3"
  },
  "language_info": {
   "codemirror_mode": {
    "name": "ipython",
    "version": 3
   },
   "file_extension": ".py",
   "mimetype": "text/x-python",
   "name": "python",
   "nbconvert_exporter": "python",
   "pygments_lexer": "ipython3",
   "version": "3.7.5"
  }
 },
 "nbformat": 4,
 "nbformat_minor": 4
}
