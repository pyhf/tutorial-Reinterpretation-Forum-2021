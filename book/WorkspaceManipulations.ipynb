{
 "cells": [
  {
   "cell_type": "markdown",
   "metadata": {},
   "source": [
    "# Workspace Manipulations\n",
    "\n",
    "In this chapter, you will learn about various workspace manipulations including how to convert from HistFactory XML+ROOT workspaces to pyhf. We'll cover some common pitfalls such as locations of root files, and being able to set the base path for the conversion.\n",
    "\n",
    "## Getting the XML+ROOT\n",
    "\n",
    "Note, getting the XML+ROOT won't necessarily be covered as part of the tutorial.\n",
    "\n",
    "If you want to practice extracting out the HistFactory files from the workspace, first create the workspace like so:\n",
    "\n",
    "```\n",
    "$ hist2workspace config/example.xml\n",
    "\n",
    "... lots of output! ...\n",
    "```\n",
    "\n",
    "and you'll notice a few new files being made!\n",
    "\n",
    "```\n",
    "$ ls results/\n",
    "total 136K\n",
    "drwxr-xr-x 7 kratsg 224 Sep 23 16:32 ./\n",
    "drwxr-xr-x 5 kratsg 160 Sep 23 16:33 ../\n",
    "-rw-r--r-- 1 kratsg 503 Sep 23 16:32 example_GaussExample.root\n",
    "-rw-r--r-- 1 kratsg 40K Sep 23 16:32 example_channel1_GaussExample_model.root\n",
    "-rw-r--r-- 1 kratsg 38K Sep 23 16:32 example_channel2_GaussExample_model.root\n",
    "-rw-r--r-- 1 kratsg 48K Sep 23 16:32 example_combined_GaussExample_model.root\n",
    "-rw-r--r-- 1 kratsg  26 Sep 23 16:32 example_results.table\n",
    "```\n",
    "\n",
    "In particular, `example_combined_GaussExample_model.root` is exactly the file that contains the `RooStats::HistFactory::Measurement` object:\n",
    "\n",
    "```\n",
    "$ root results/example_combined_GaussExample_model.root \n",
    "   ------------------------------------------------------------\n",
    "  | Welcome to ROOT 6.18/04                  https://root.cern |\n",
    "  |                               (c) 1995-2019, The ROOT Team |\n",
    "  | Built for macosx64 on Sep 11 2019, 15:38:23                |\n",
    "  | From tags/v6-18-04@v6-18-04                                |\n",
    "  | Try '.help', '.demo', '.license', '.credits', '.quit'/'.q' |\n",
    "   ------------------------------------------------------------\n",
    "\n",
    "root [0] \n",
    "Attaching file results/example_combined_GaussExample_model.root as _file0...\n",
    "\n",
    "RooFit v3.60 -- Developed by Wouter Verkerke and David Kirkby \n",
    "                Copyright (C) 2000-2013 NIKHEF, University of California & Stanford University\n",
    "                All rights reserved, please read http://roofit.sourceforge.net/license.txt\n",
    "\n",
    "(TFile *) 0x7ffaa30d2130\n",
    "root [1] .ls\n",
    "TFile**\t\tresults/example_combined_GaussExample_model.root\t\n",
    " TFile*\t\tresults/example_combined_GaussExample_model.root\t\n",
    "  KEY: RooWorkspace\tcombined;1\tcombined\n",
    "  KEY: TProcessID\tProcessID0;1\te1e9272e-fddb-11ea-86b3-1556a8c0beef\n",
    "  KEY: TDirectoryFile\tchannel1_hists;1\tchannel1_hists\n",
    "  KEY: TDirectoryFile\tchannel2_hists;1\tchannel2_hists\n",
    "  KEY: RooStats::HistFactory::Measurement\tGaussExample;1\n",
    "```\n",
    "\n",
    "from which you can extract out the necessary XML files as well:\n",
    "\n",
    "```\n",
    "root [2] GaussExample->PrintXML()\n",
    "Printing XML Files for measurement: GaussExample\n",
    "Printing XML Files for channel: channel1\n",
    "Finished printing XML files\n",
    "Printing XML Files for channel: channel2\n",
    "Finished printing XML files\n",
    "Finished printing XML files\n",
    "```\n",
    "\n",
    "which dumps them into the same directory you ran from:\n",
    "\n",
    "```\n",
    "$ ls\n",
    "total 12K\n",
    "drwxr-xr-x 8 kratsg  256 Sep 23 16:32 ./\n",
    "drwxr-xr-x 4 kratsg  128 Sep 22 15:10 ../\n",
    "-rw-r--r-- 1 kratsg  459 Sep 23 16:32 GaussExample.xml\n",
    "-rw-r--r-- 1 kratsg 1.1K Sep 23 16:32 GaussExample_channel1.xml\n",
    "-rw-r--r-- 1 kratsg  795 Sep 23 16:32 GaussExample_channel2.xml\n",
    "drwxr-xr-x 6 kratsg  192 Sep 22 15:10 config/\n",
    "drwxr-xr-x 3 kratsg   96 Sep 22 15:10 data/\n",
    "drwxr-xr-x 7 kratsg  224 Sep 23 16:32 results/\n",
    "```\n",
    "\n",
    "## XML to JSON\n",
    "\n",
    "### via the command line\n",
    "\n",
    "So pyhf comes with a lot of nifty utilities you can access. The documentation for the command line can be found via `pyhf --help` or [online](https://scikit-hep.org/pyhf/cli.html)."
   ]
  },
  {
   "cell_type": "code",
   "execution_count": 1,
   "metadata": {},
   "outputs": [
    {
     "name": "stdout",
     "output_type": "stream",
     "text": [
      "Usage: pyhf [OPTIONS] COMMAND [ARGS]...\n",
      "\n",
      "  Top-level CLI entrypoint.\n",
      "\n",
      "Options:\n",
      "  --version   Show the version and exit.\n",
      "  -h, --help  Show this message and exit.\n",
      "\n",
      "Commands:\n",
      "  cls          Compute CLs value(s) for a given pyhf workspace.\n",
      "  combine      Combine two workspaces into a single workspace.\n",
      "  completions  Generate shell completion code.\n",
      "  digest       Use hashing algorithm to calculate the workspace digest.\n",
      "  inspect      Inspect a pyhf JSON document.\n",
      "  json2xml     Convert pyhf JSON back to XML + ROOT files.\n",
      "  patchset     Operations involving patchsets.\n",
      "  prune        Prune components from the workspace.\n",
      "  rename       Rename components of the workspace.\n",
      "  sort         Sort the workspace.\n",
      "  xml2json     Entrypoint XML: The top-level XML file for the PDF...\n"
     ]
    }
   ],
   "source": [
    "!pyhf --help"
   ]
  },
  {
   "cell_type": "markdown",
   "metadata": {},
   "source": [
    "Let's focus for now on `pyhf xml2json` which requires that you have installed `pyhf[xmlio]` (pyhf with the xmlio option).\n",
    "\n",
    "```\n",
    "python -m pip install pyhf[xmlio]\n",
    "```\n",
    "\n",
    "Again, the online documentation for this option is found [here](https://scikit-hep.org/pyhf/cli.html#pyhf-xml2json)."
   ]
  },
  {
   "cell_type": "code",
   "execution_count": 2,
   "metadata": {},
   "outputs": [
    {
     "name": "stdout",
     "output_type": "stream",
     "text": [
      "Usage: pyhf xml2json [OPTIONS] ENTRYPOINT_XML\n",
      "\n",
      "  Entrypoint XML: The top-level XML file for the PDF definition.\n",
      "\n",
      "Options:\n",
      "  --basedir PATH                  The base directory for the XML files to\n",
      "                                  point relative to.\n",
      "\n",
      "  --output-file TEXT              The location of the output json file. If not\n",
      "                                  specified, prints to screen.\n",
      "\n",
      "  --track-progress / --hide-progress\n",
      "  -h, --help                      Show this message and exit.\n"
     ]
    }
   ],
   "source": [
    "!pyhf xml2json --help"
   ]
  },
  {
   "cell_type": "markdown",
   "metadata": {},
   "source": [
    "Let's remind ourselves of what the top-level XML file looks like, as this is the `ENTRYPOINT_XML`."
   ]
  },
  {
   "cell_type": "code",
   "execution_count": 3,
   "metadata": {},
   "outputs": [
    {
     "name": "stdout",
     "output_type": "stream",
     "text": [
      "     1\t<!DOCTYPE Combination  SYSTEM 'HistFactorySchema.dtd'>\n",
      "     2\t\n",
      "     3\t<Combination OutputFilePrefix=\"./results/example\">\n",
      "     4\t  <Input>./config/example_signal.xml</Input>\n",
      "     5\t  <Input>./config/example_control.xml</Input>\n",
      "     6\t  <Measurement Name=\"GaussExample\" Lumi=\"1.\" LumiRelErr=\"0.1\" ExportOnly=\"True\">\n",
      "     7\t    <POI>SigXsecOverSM</POI>\n",
      "     8\t    <ParamSetting Const=\"True\">Lumi</ParamSetting>\n",
      "     9\t  </Measurement>\n",
      "    10\t</Combination>\n"
     ]
    }
   ],
   "source": [
    "!tail -n +15 data/multichannel_histfactory/config/example.xml | cat -n"
   ]
  },
  {
   "cell_type": "markdown",
   "metadata": {},
   "source": [
    "So to explain these options:\n",
    "* `basedir` specifies the base directory for where all the XML files are reference with respect to. As you can see from lines 3, 4, 5 - this should be the directory containing `results/` and `config/`\n",
    "* `output-file` specifies the output JSON file. If one is not specified, this will print to the screen, which you can redirect into a file if you want (`pyhf xml2json ... > workspace.json`)\n",
    "* `hide-progress` will disable showing the progress bars when running the script... but we like progress bars 🙂\n",
    "\n",
    "Let's go ahead and run this command, but we won't specify the output file so it goes to the screen. We'll also disable the progress tracking, just so we have a nicer output for this tutorial."
   ]
  },
  {
   "cell_type": "code",
   "execution_count": null,
   "metadata": {},
   "outputs": [],
   "source": [
    "!pyhf xml2json --basedir data/multichannel_histfactory data/multichannel_histfactory/config/example.xml --hide-progress | cat -n"
   ]
  },
  {
   "cell_type": "markdown",
   "metadata": {},
   "source": [
    "Only 130 lines for the entire workspace! Not too shabby. If we look through a couple of pieces:\n",
    "* line 2: specify a list of channels\n",
    "* line 5: specify the samples for `channel1`\n",
    "* lines 6-10: specify the expected event rate for the `signal` sample in `channel1`\n",
    "* line 11: specify a list of modifiers (e.g. parameters that modify the sample)\n",
    "\n",
    "Similarly, if we continue down to the second half of this JSON, we hit line 72 which specifies a list of `measurements` for this workspace. In fact, we only have one measurement called `GaussExample` with the parameter of interest defined as `SigXsecOverSM`. This measurement also specifies additional parameter configuration such as details for the luminosity modifier (parameter name `lumi`).\n",
    "\n",
    "Nearly at the end, the next part of this specification is for the `observations` (observed data) on line 113. Each observation corresponds with the channel, where `channel1` has two bins, and `channel2` also has two bins.\n",
    "\n",
    "Finally, we have a `version` which specifies the version of the schema used for the JSON HistFactory. In this case, we're using `1.0.0` which has the [https://scikit-hep.org/pyhf/schemas/1.0.0/workspace.json](https://scikit-hep.org/pyhf/schemas/1.0.0/workspace.json) definition which refers to the [https://scikit-hep.org/pyhf/schemas/1.0.0/defs.json](https://scikit-hep.org/pyhf/schemas/1.0.0/defs.json).\n",
    "\n",
    "What's really nice about the schema definition is that it allows anyone to write their own tooling/scripting to build up the workspace and quickly check if it matches the schema. This will get you 90% of the way there in having a valid workspace to work with.\n",
    "\n",
    "There are some additional checks that cannot be done, such as name conflicts, or ensuring that all samples in a channel have the same binning structure. The good news is that these checks can be done simply by loading up the workspace into a `pyhf.Workspace` object which will do the schema validation, as well as the additional checks.\n",
    "\n",
    "Speaking of `pyhf.Workspace` objects...\n",
    "\n",
    "### via the python interface\n",
    "\n",
    "Let's do the exact same thing, but from the python interpreter"
   ]
  },
  {
   "cell_type": "code",
   "execution_count": 1,
   "metadata": {},
   "outputs": [],
   "source": [
    "import pyhf\n",
    "import pyhf.readxml # not imported by default!\n",
    "\n",
    "spec = pyhf.readxml.parse('data/multichannel_histfactory/config/example.xml', 'data/multichannel_histfactory')"
   ]
  },
  {
   "cell_type": "markdown",
   "metadata": {},
   "source": [
    "So we're not going to dump this out. We already did that above. Let's just quickly go ahead and load it into a [`pyhf.Workspace`](https://scikit-hep.org/pyhf/_generated/pyhf.workspace.Workspace.html#pyhf.workspace.Workspace) object because we can."
   ]
  },
  {
   "cell_type": "code",
   "execution_count": 2,
   "metadata": {},
   "outputs": [
    {
     "name": "stdout",
     "output_type": "stream",
     "text": [
      "    channels: ['channel1', 'channel2']\n",
      "       nbins: {'channel1': 2, 'channel2': 2}\n",
      "     samples: ['bkg', 'signal']\n",
      "   modifiers: [('SigXsecOverSM', 'normfactor'), ('lumi', 'lumi'), ('uncorrshape_control', 'shapesys'), ('uncorrshape_signal', 'shapesys')]\n",
      "  parameters: ['SigXsecOverSM', 'lumi', 'uncorrshape_control', 'uncorrshape_signal']\n",
      "observations: {'channel1': [110.0, 155.0], 'channel2': [205.0, 345.0]}\n"
     ]
    }
   ],
   "source": [
    "ws = pyhf.Workspace(spec)\n",
    "print(f'    channels: {ws.channels}')\n",
    "print(f'       nbins: {ws.channel_nbins}')\n",
    "print(f'     samples: {ws.samples}')\n",
    "print(f'   modifiers: {ws.modifiers}')\n",
    "print(f'  parameters: {ws.parameters}')\n",
    "print(f'observations: {ws.observations}')"
   ]
  },
  {
   "cell_type": "markdown",
   "metadata": {},
   "source": [
    "Already, we're seeing a lot of information about this workspace as it's rather inspectable. Remember, this is not a model. What we call a 'model' is to combine the channel specification with a measurement... that is, a measurement of a workspace uniquely defines that model. A model might choose a particular parameter of interest to measure or set specific parameters as constant during the fit. These configurations are all stored in the `measurements` key we saw above. We'll explore more about models in the next chapter.\n",
    "\n",
    "Let's move on to more things we can do with the command line."
   ]
  },
  {
   "cell_type": "markdown",
   "metadata": {},
   "source": [
    "## Workspace Inspection\n",
    "\n",
    "Now that we have a working command for converting our XML to JSON, let's go ahead and take advantage of the JSON output by piping it to `pyhf inspect` which will print out a nice summary of our workspace."
   ]
  },
  {
   "cell_type": "code",
   "execution_count": 3,
   "metadata": {},
   "outputs": [
    {
     "name": "stdout",
     "output_type": "stream",
     "text": [
      "Usage: pyhf inspect [OPTIONS] [WORKSPACE]\r\n",
      "\r\n",
      "  Inspect a pyhf JSON document.\r\n",
      "\r\n",
      "  Example:\r\n",
      "\r\n",
      "  .. code-block:: shell\r\n",
      "\r\n",
      "      $ curl -sL https://raw.githubusercontent.com/scikit-\r\n",
      "      hep/pyhf/master/docs/examples/json/2-bin_1-channel.json | pyhf inspect\r\n",
      "      Summary         ------------------            channels  1\r\n",
      "      samples  2          parameters  2           modifiers  2\r\n",
      "\r\n",
      "             channels  nbins          ----------  -----       singlechannel\r\n",
      "             2\r\n",
      "\r\n",
      "              samples          ----------          background\r\n",
      "              signal\r\n",
      "\r\n",
      "           parameters  constraint              modifiers          ----------\r\n",
      "           ----------              ----------                  mu\r\n",
      "           unconstrained           normfactor     uncorr_bkguncrt\r\n",
      "           constrained_by_poisson  shapesys\r\n",
      "\r\n",
      "          measurement           poi            parameters\r\n",
      "          ----------        ----------        ----------     (*) Measurement\r\n",
      "          mu            (none)\r\n",
      "\r\n",
      "Options:\r\n",
      "  --output-file TEXT  The location of the output json file. If not specified,\r\n",
      "                      prints to screen.\r\n",
      "\r\n",
      "  --measurement TEXT\r\n",
      "  -h, --help          Show this message and exit.\r\n"
     ]
    }
   ],
   "source": [
    "! pyhf inspect --help"
   ]
  },
  {
   "cell_type": "code",
   "execution_count": 4,
   "metadata": {},
   "outputs": [
    {
     "name": "stdout",
     "output_type": "stream",
     "text": [
      "              Summary       \r\n",
      "        ------------------  \r\n",
      "           channels  2\r\n",
      "            samples  2\r\n",
      "         parameters  4\r\n",
      "          modifiers  4\r\n",
      "\r\n",
      "           channels  nbins\r\n",
      "         ----------  -----\r\n",
      "           channel1    2  \r\n",
      "           channel2    2  \r\n",
      "\r\n",
      "            samples\r\n",
      "         ----------\r\n",
      "                bkg\r\n",
      "             signal\r\n",
      "\r\n",
      "         parameters  constraint              modifiers\r\n",
      "         ----------  ----------              ----------\r\n",
      "      SigXsecOverSM  unconstrained           normfactor\r\n",
      "               lumi  constrained_by_normal   lumi\r\n",
      "uncorrshape_control  constrained_by_poisson  shapesys\r\n",
      " uncorrshape_signal  constrained_by_poisson  shapesys\r\n",
      "\r\n",
      "        measurement           poi            parameters\r\n",
      "         ----------        ----------        ----------\r\n",
      "   (*) GaussExample      SigXsecOverSM       lumi,SigXsecOverSM\r\n",
      "\r\n"
     ]
    }
   ],
   "source": [
    "! pyhf xml2json --basedir data/multichannel_histfactory data/multichannel_histfactory/config/example.xml --hide-progress | \\\n",
    "  pyhf inspect"
   ]
  },
  {
   "cell_type": "markdown",
   "metadata": {},
   "source": [
    "Immediately, we get a lot of useful information. We can see the number of channels, samples, parameters, and modifiers. Then we get a breakdown of the channels (and the number of bins for each channel), the samples, and the parameters. Finally, we see a list of measurements defined in the workspace, as well as the `(*)` denoting the default measurement if one is not specified.\n",
    "\n",
    "**Could the number of parameters and modifiers differ?**"
   ]
  },
  {
   "cell_type": "markdown",
   "metadata": {},
   "source": [
    "## \"Normalizing\" a Workspace\n",
    "\n",
    "There comes a time when you need to make comparisons to determine changes between two workspaces. This means depending on how the workspace is generated, one might need to \"sort\" it. `pyhf sort` is a utility that will normalize the workspace for you, such that certain operations like calculating a checksum (`pyhf digest`) guarantees unitarity.\n",
    "\n",
    "For simple workspaces like the ones we're using in this tutorial, they're already sorted... however, this is not true in the real world. Notice how the `bkg` is now the first sample and `signal` is the second sample after sorting."
   ]
  },
  {
   "cell_type": "code",
   "execution_count": 5,
   "metadata": {},
   "outputs": [
    {
     "name": "stdout",
     "output_type": "stream",
     "text": [
      "Usage: pyhf sort [OPTIONS] [WORKSPACE]\r\n",
      "\r\n",
      "  Sort the workspace.\r\n",
      "\r\n",
      "  See :func:`pyhf.workspace.Workspace.sorted` for more information.\r\n",
      "\r\n",
      "  Example:\r\n",
      "\r\n",
      "  .. code-block:: shell\r\n",
      "\r\n",
      "      $ curl -sL https://raw.githubusercontent.com/scikit-\r\n",
      "      hep/pyhf/master/docs/examples/json/2-bin_1-channel.json | pyhf sort |\r\n",
      "      jq '.' | md5     8be5186ec249d2704e14dd29ef05ffb0\r\n",
      "\r\n",
      "  .. code-block:: shell\r\n",
      "\r\n",
      "      $ curl -sL https://raw.githubusercontent.com/scikit-\r\n",
      "      hep/pyhf/master/docs/examples/json/2-bin_1-channel.json | jq -S '.chan\r\n",
      "      nels|=sort_by(.name)|.channels[].samples|=sort_by(.name)|.channels[].s\r\n",
      "      amples[].modifiers|=sort_by(.name,.type)|.observations|=sort_by(.name)\r\n",
      "      ' | md5     8be5186ec249d2704e14dd29ef05ffb0\r\n",
      "\r\n",
      "Options:\r\n",
      "  --output-file TEXT  The location of the output json file. If not specified,\r\n",
      "                      prints to screen.\r\n",
      "\r\n",
      "  -h, --help          Show this message and exit.\r\n"
     ]
    }
   ],
   "source": [
    "! pyhf sort --help"
   ]
  },
  {
   "cell_type": "code",
   "execution_count": 6,
   "metadata": {},
   "outputs": [
    {
     "name": "stdout",
     "output_type": "stream",
     "text": [
      "{\r\n",
      "    \"channels\": [\r\n",
      "        {\r\n",
      "            \"name\": \"channel1\",\r\n",
      "            \"samples\": [\r\n",
      "                {\r\n",
      "                    \"data\": [\r\n",
      "                        100.0,\r\n",
      "                        150.0\r\n",
      "                    ],\r\n",
      "                    \"modifiers\": [\r\n",
      "                        {\r\n",
      "                            \"data\": null,\r\n",
      "                            \"name\": \"lumi\",\r\n",
      "                            \"type\": \"lumi\"\r\n",
      "                        },\r\n",
      "                        {\r\n",
      "                            \"data\": [\r\n",
      "                                10.000000149011612,\r\n",
      "                                10.000000521540642\r\n",
      "                            ],\r\n",
      "                            \"name\": \"uncorrshape_signal\",\r\n",
      "                            \"type\": \"shapesys\"\r\n",
      "                        }\r\n",
      "                    ],\r\n",
      "                    \"name\": \"bkg\"\r\n",
      "                },\r\n",
      "                {\r\n",
      "                    \"data\": [\r\n",
      "                        10.0,\r\n",
      "                        35.0\r\n",
      "                    ],\r\n",
      "                    \"modifiers\": [\r\n",
      "                        {\r\n",
      "                            \"data\": null,\r\n",
      "                            \"name\": \"SigXsecOverSM\",\r\n",
      "                            \"type\": \"normfactor\"\r\n",
      "                        }\r\n",
      "                    ],\r\n",
      "                    \"name\": \"signal\"\r\n",
      "                }\r\n",
      "            ]\r\n",
      "        },\r\n",
      "        {\r\n",
      "            \"name\": \"channel2\",\r\n",
      "            \"samples\": [\r\n",
      "                {\r\n",
      "                    \"data\": [\r\n",
      "                        200.0,\r\n",
      "                        350.0\r\n",
      "                    ],\r\n",
      "                    \"modifiers\": [\r\n",
      "                        {\r\n",
      "                            \"data\": null,\r\n",
      "                            \"name\": \"lumi\",\r\n",
      "                            \"type\": \"lumi\"\r\n",
      "                        },\r\n",
      "                        {\r\n",
      "                            \"data\": [\r\n",
      "                                5.000000074505806,\r\n",
      "                                10.000000055879354\r\n",
      "                            ],\r\n",
      "                            \"name\": \"uncorrshape_control\",\r\n",
      "                            \"type\": \"shapesys\"\r\n",
      "                        }\r\n",
      "                    ],\r\n",
      "                    \"name\": \"bkg\"\r\n",
      "                }\r\n",
      "            ]\r\n",
      "        }\r\n",
      "    ],\r\n",
      "    \"measurements\": [\r\n",
      "        {\r\n",
      "            \"config\": {\r\n",
      "                \"parameters\": [\r\n",
      "                    {\r\n",
      "                        \"bounds\": [\r\n",
      "                            [\r\n",
      "                                0.0,\r\n",
      "                                10.0\r\n",
      "                            ]\r\n",
      "                        ],\r\n",
      "                        \"inits\": [\r\n",
      "                            1.0\r\n",
      "                        ],\r\n",
      "                        \"name\": \"SigXsecOverSM\"\r\n",
      "                    },\r\n",
      "                    {\r\n",
      "                        \"auxdata\": [\r\n",
      "                            1.0\r\n",
      "                        ],\r\n",
      "                        \"bounds\": [\r\n",
      "                            [\r\n",
      "                                0.5,\r\n",
      "                                1.5\r\n",
      "                            ]\r\n",
      "                        ],\r\n",
      "                        \"fixed\": true,\r\n",
      "                        \"inits\": [\r\n",
      "                            1.0\r\n",
      "                        ],\r\n",
      "                        \"name\": \"lumi\",\r\n",
      "                        \"sigmas\": [\r\n",
      "                            0.1\r\n",
      "                        ]\r\n",
      "                    }\r\n",
      "                ],\r\n",
      "                \"poi\": \"SigXsecOverSM\"\r\n",
      "            },\r\n",
      "            \"name\": \"GaussExample\"\r\n",
      "        }\r\n",
      "    ],\r\n",
      "    \"observations\": [\r\n",
      "        {\r\n",
      "            \"data\": [\r\n",
      "                110.0,\r\n",
      "                155.0\r\n",
      "            ],\r\n",
      "            \"name\": \"channel1\"\r\n",
      "        },\r\n",
      "        {\r\n",
      "            \"data\": [\r\n",
      "                205.0,\r\n",
      "                345.0\r\n",
      "            ],\r\n",
      "            \"name\": \"channel2\"\r\n",
      "        }\r\n",
      "    ],\r\n",
      "    \"version\": \"1.0.0\"\r\n",
      "}\r\n"
     ]
    }
   ],
   "source": [
    "! pyhf xml2json --basedir data/multichannel_histfactory data/multichannel_histfactory/config/example.xml --hide-progress | \\\n",
    "  pyhf sort"
   ]
  },
  {
   "cell_type": "markdown",
   "metadata": {},
   "source": [
    "## Computing a digest\n",
    "\n",
    "Next up is a way to determine if two workspaces are equivalent, simply by comparing their computed digest. Note that this is based on the contents of the workspace and will not ensure floating-point differences are treated identically. That is, `2.19999999` and `2.2000001` will likely be treated as differently in the digest calculation as in python. We'll show here why sorting is very important."
   ]
  },
  {
   "cell_type": "code",
   "execution_count": 7,
   "metadata": {},
   "outputs": [
    {
     "name": "stdout",
     "output_type": "stream",
     "text": [
      "Usage: pyhf digest [OPTIONS] [WORKSPACE]\r\n",
      "\r\n",
      "  Use hashing algorithm to calculate the workspace digest.\r\n",
      "\r\n",
      "  Returns:     digests (:obj:`dict`): A mapping of the hashing algorithms\r\n",
      "  used to the computed digest for the workspace.\r\n",
      "\r\n",
      "  Example:\r\n",
      "\r\n",
      "  .. code-block:: shell\r\n",
      "\r\n",
      "      $ curl -sL https://raw.githubusercontent.com/scikit-\r\n",
      "      hep/pyhf/master/docs/examples/json/2-bin_1-channel.json | pyhf digest\r\n",
      "      sha256:dad8822af55205d60152cbe4303929042dbd9d4839012e055e7c6b6459d68d7\r\n",
      "      3\r\n",
      "\r\n",
      "Options:\r\n",
      "  -a, --algorithm TEXT          The hashing algorithm used to compute the\r\n",
      "                                workspace digest.\r\n",
      "\r\n",
      "  -j, --json / -p, --plaintext  Output the hash values as a JSON dictionary or\r\n",
      "                                plaintext strings\r\n",
      "\r\n",
      "  -h, --help                    Show this message and exit.\r\n"
     ]
    }
   ],
   "source": [
    "! pyhf digest --help"
   ]
  },
  {
   "cell_type": "code",
   "execution_count": 8,
   "metadata": {},
   "outputs": [
    {
     "name": "stdout",
     "output_type": "stream",
     "text": [
      "sha256:50165e8ef034c514fb77e8f05a15a002c02bd659f001657952b79e0552470f79\r\n"
     ]
    }
   ],
   "source": [
    "! pyhf xml2json --basedir data/multichannel_histfactory data/multichannel_histfactory/config/example.xml --hide-progress | \\\n",
    "  pyhf digest"
   ]
  },
  {
   "cell_type": "code",
   "execution_count": 9,
   "metadata": {},
   "outputs": [
    {
     "name": "stdout",
     "output_type": "stream",
     "text": [
      "sha256:27a35f6874cf91f9b38916cf948ac18ee650f1b578a93107b9b212c8752b1310\r\n"
     ]
    }
   ],
   "source": [
    "! pyhf xml2json --basedir data/multichannel_histfactory data/multichannel_histfactory/config/example.xml --hide-progress | \\\n",
    "  pyhf sort | \\\n",
    "  pyhf digest"
   ]
  },
  {
   "cell_type": "markdown",
   "metadata": {},
   "source": [
    "Remember that the ordering of the samples will have switched through the sorting.\n",
    "\n",
    "The `sha256` algorithm is used to compute the checksum for this workspace. This means that one can generally \"normalize\" all workspaces, then compute the digest and guarantee uniqueness. As with all command line functionality you've seen so far, there are equivalent ways to do it through python."
   ]
  },
  {
   "cell_type": "code",
   "execution_count": 10,
   "metadata": {},
   "outputs": [
    {
     "name": "stdout",
     "output_type": "stream",
     "text": [
      "Unsorted: 50165e8ef034c514fb77e8f05a15a002c02bd659f001657952b79e0552470f79\n",
      "Sorted:   27a35f6874cf91f9b38916cf948ac18ee650f1b578a93107b9b212c8752b1310\n"
     ]
    }
   ],
   "source": [
    "print(f'Unsorted: {pyhf.utils.digest(ws)}')\n",
    "print(f'Sorted:   {pyhf.utils.digest(pyhf.Workspace.sorted(ws))}')"
   ]
  },
  {
   "cell_type": "markdown",
   "metadata": {},
   "source": [
    "## \"Pruning\" away items\n",
    "\n",
    "Sometimes you want to manipulate workspaces by removing channels or samples or systematics (or measurements). This can be useful when trying to debug fits, or to build background-only workspaces, or to clean up a workspace."
   ]
  },
  {
   "cell_type": "code",
   "execution_count": 11,
   "metadata": {},
   "outputs": [
    {
     "name": "stdout",
     "output_type": "stream",
     "text": [
      "Usage: pyhf prune [OPTIONS] [WORKSPACE]\r\n",
      "\r\n",
      "  Prune components from the workspace.\r\n",
      "\r\n",
      "  See :func:`pyhf.workspace.Workspace.prune` for more information.\r\n",
      "\r\n",
      "Options:\r\n",
      "  --output-file TEXT              The location of the output json file. If not\r\n",
      "                                  specified, prints to screen.\r\n",
      "\r\n",
      "  -c, --channel <CHANNEL>...\r\n",
      "  -s, --sample <SAMPLE>...\r\n",
      "  -m, --modifier <MODIFIER>...\r\n",
      "  -t, --modifier-type [histosys|lumi|normfactor|normsys|shapefactor|shapesys|staterror]\r\n",
      "  --measurement <MEASUREMENT>...\r\n",
      "  -h, --help                      Show this message and exit.\r\n"
     ]
    }
   ],
   "source": [
    "!pyhf prune --help"
   ]
  },
  {
   "cell_type": "markdown",
   "metadata": {},
   "source": [
    "### prune channels"
   ]
  },
  {
   "cell_type": "code",
   "execution_count": 12,
   "metadata": {
    "scrolled": true
   },
   "outputs": [
    {
     "name": "stdout",
     "output_type": "stream",
     "text": [
      "              Summary       \r\n",
      "        ------------------  \r\n",
      "           channels  1\r\n",
      "            samples  1\r\n",
      "         parameters  2\r\n",
      "          modifiers  2\r\n",
      "\r\n",
      "           channels  nbins\r\n",
      "         ----------  -----\r\n",
      "           channel2    2  \r\n",
      "\r\n",
      "            samples\r\n",
      "         ----------\r\n",
      "                bkg\r\n",
      "\r\n",
      "         parameters  constraint              modifiers\r\n",
      "         ----------  ----------              ----------\r\n",
      "               lumi  constrained_by_normal   lumi\r\n",
      "uncorrshape_control  constrained_by_poisson  shapesys\r\n",
      "\r\n",
      "        measurement           poi            parameters\r\n",
      "         ----------        ----------        ----------\r\n",
      "   (*) GaussExample      SigXsecOverSM       lumi,SigXsecOverSM\r\n",
      "\r\n"
     ]
    }
   ],
   "source": [
    "! pyhf xml2json --basedir data/multichannel_histfactory data/multichannel_histfactory/config/example.xml --hide-progress | \\\n",
    "  pyhf prune -c channel1 | \\\n",
    "  pyhf inspect"
   ]
  },
  {
   "cell_type": "markdown",
   "metadata": {},
   "source": [
    "### prune samples"
   ]
  },
  {
   "cell_type": "code",
   "execution_count": 13,
   "metadata": {},
   "outputs": [
    {
     "name": "stdout",
     "output_type": "stream",
     "text": [
      "              Summary       \r\n",
      "        ------------------  \r\n",
      "           channels  2\r\n",
      "            samples  1\r\n",
      "         parameters  3\r\n",
      "          modifiers  3\r\n",
      "\r\n",
      "           channels  nbins\r\n",
      "         ----------  -----\r\n",
      "           channel1    2  \r\n",
      "           channel2    2  \r\n",
      "\r\n",
      "            samples\r\n",
      "         ----------\r\n",
      "                bkg\r\n",
      "\r\n",
      "         parameters  constraint              modifiers\r\n",
      "         ----------  ----------              ----------\r\n",
      "               lumi  constrained_by_normal   lumi\r\n",
      "uncorrshape_control  constrained_by_poisson  shapesys\r\n",
      " uncorrshape_signal  constrained_by_poisson  shapesys\r\n",
      "\r\n",
      "        measurement           poi            parameters\r\n",
      "         ----------        ----------        ----------\r\n",
      "   (*) GaussExample      SigXsecOverSM       lumi,SigXsecOverSM\r\n",
      "\r\n"
     ]
    }
   ],
   "source": [
    "! pyhf xml2json --basedir data/multichannel_histfactory data/multichannel_histfactory/config/example.xml --hide-progress | \\\n",
    "  pyhf prune -s signal | \\\n",
    "  pyhf inspect"
   ]
  },
  {
   "cell_type": "markdown",
   "metadata": {},
   "source": [
    "### prune modifiers"
   ]
  },
  {
   "cell_type": "code",
   "execution_count": 14,
   "metadata": {
    "scrolled": true
   },
   "outputs": [
    {
     "name": "stdout",
     "output_type": "stream",
     "text": [
      "              Summary       \r\n",
      "        ------------------  \r\n",
      "           channels  2\r\n",
      "            samples  2\r\n",
      "         parameters  3\r\n",
      "          modifiers  3\r\n",
      "\r\n",
      "           channels  nbins\r\n",
      "         ----------  -----\r\n",
      "           channel1    2  \r\n",
      "           channel2    2  \r\n",
      "\r\n",
      "            samples\r\n",
      "         ----------\r\n",
      "                bkg\r\n",
      "             signal\r\n",
      "\r\n",
      "         parameters  constraint              modifiers\r\n",
      "         ----------  ----------              ----------\r\n",
      "      SigXsecOverSM  unconstrained           normfactor\r\n",
      "               lumi  constrained_by_normal   lumi\r\n",
      "uncorrshape_control  constrained_by_poisson  shapesys\r\n",
      "\r\n",
      "        measurement           poi            parameters\r\n",
      "         ----------        ----------        ----------\r\n",
      "   (*) GaussExample      SigXsecOverSM       lumi,SigXsecOverSM\r\n",
      "\r\n"
     ]
    }
   ],
   "source": [
    "! pyhf xml2json --basedir data/multichannel_histfactory data/multichannel_histfactory/config/example.xml --hide-progress | \\\n",
    "  pyhf prune -m uncorrshape_signal | \\\n",
    "  pyhf inspect"
   ]
  },
  {
   "cell_type": "markdown",
   "metadata": {},
   "source": [
    "### prune modifier types"
   ]
  },
  {
   "cell_type": "code",
   "execution_count": 15,
   "metadata": {},
   "outputs": [
    {
     "name": "stdout",
     "output_type": "stream",
     "text": [
      "        Summary       \r\n",
      "  ------------------  \r\n",
      "     channels  2\r\n",
      "      samples  2\r\n",
      "   parameters  2\r\n",
      "    modifiers  2\r\n",
      "\r\n",
      "     channels  nbins\r\n",
      "   ----------  -----\r\n",
      "     channel1    2  \r\n",
      "     channel2    2  \r\n",
      "\r\n",
      "      samples\r\n",
      "   ----------\r\n",
      "          bkg\r\n",
      "       signal\r\n",
      "\r\n",
      "   parameters  constraint              modifiers\r\n",
      "   ----------  ----------              ----------\r\n",
      "SigXsecOverSM  unconstrained           normfactor\r\n",
      "         lumi  constrained_by_normal   lumi\r\n",
      "\r\n",
      "  measurement           poi            parameters\r\n",
      "   ----------        ----------        ----------\r\n",
      "(*) GaussExample      SigXsecOverSM       lumi,SigXsecOverSM\r\n",
      "\r\n"
     ]
    }
   ],
   "source": [
    "! pyhf xml2json --basedir data/multichannel_histfactory data/multichannel_histfactory/config/example.xml --hide-progress | \\\n",
    "  pyhf prune -t shapesys | \\\n",
    "  pyhf inspect"
   ]
  },
  {
   "cell_type": "markdown",
   "metadata": {},
   "source": [
    "## Renaming items\n",
    "\n",
    "In addition to removing items, you might want to rename your channels, samples, modifiers, or measurement names. This can be useful for creating modifier correlations, or removing modifier correlations, or just cleaning up your workspace to get it ready for publication."
   ]
  },
  {
   "cell_type": "code",
   "execution_count": 16,
   "metadata": {
    "scrolled": true
   },
   "outputs": [
    {
     "name": "stdout",
     "output_type": "stream",
     "text": [
      "Usage: pyhf rename [OPTIONS] [WORKSPACE]\r\n",
      "\r\n",
      "  Rename components of the workspace.\r\n",
      "\r\n",
      "  See :func:`pyhf.workspace.Workspace.rename` for more information.\r\n",
      "\r\n",
      "Options:\r\n",
      "  --output-file TEXT              The location of the output json file. If not\r\n",
      "                                  specified, prints to screen.\r\n",
      "\r\n",
      "  -c, --channel <PATTERN> <REPLACE>...\r\n",
      "  -s, --sample <PATTERN> <REPLACE>...\r\n",
      "  -m, --modifier <PATTERN> <REPLACE>...\r\n",
      "  --measurement <PATTERN> <REPLACE>...\r\n",
      "  -h, --help                      Show this message and exit.\r\n"
     ]
    }
   ],
   "source": [
    "! pyhf rename --help"
   ]
  },
  {
   "cell_type": "markdown",
   "metadata": {},
   "source": [
    "### rename channels"
   ]
  },
  {
   "cell_type": "code",
   "execution_count": 17,
   "metadata": {
    "scrolled": true
   },
   "outputs": [
    {
     "name": "stdout",
     "output_type": "stream",
     "text": [
      "              Summary       \r\n",
      "        ------------------  \r\n",
      "           channels  2\r\n",
      "            samples  2\r\n",
      "         parameters  4\r\n",
      "          modifiers  4\r\n",
      "\r\n",
      "           channels  nbins\r\n",
      "         ----------  -----\r\n",
      "                 CR    2  \r\n",
      "                 SR    2  \r\n",
      "\r\n",
      "            samples\r\n",
      "         ----------\r\n",
      "                bkg\r\n",
      "             signal\r\n",
      "\r\n",
      "         parameters  constraint              modifiers\r\n",
      "         ----------  ----------              ----------\r\n",
      "      SigXsecOverSM  unconstrained           normfactor\r\n",
      "               lumi  constrained_by_normal   lumi\r\n",
      "uncorrshape_control  constrained_by_poisson  shapesys\r\n",
      " uncorrshape_signal  constrained_by_poisson  shapesys\r\n",
      "\r\n",
      "        measurement           poi            parameters\r\n",
      "         ----------        ----------        ----------\r\n",
      "   (*) GaussExample      SigXsecOverSM       lumi,SigXsecOverSM\r\n",
      "\r\n"
     ]
    }
   ],
   "source": [
    "! pyhf xml2json --basedir data/multichannel_histfactory data/multichannel_histfactory/config/example.xml --hide-progress | \\\n",
    "  pyhf rename -c channel1 SR -c channel2 CR | \\\n",
    "  pyhf inspect"
   ]
  },
  {
   "cell_type": "markdown",
   "metadata": {},
   "source": [
    "### rename samples"
   ]
  },
  {
   "cell_type": "code",
   "execution_count": 18,
   "metadata": {},
   "outputs": [
    {
     "name": "stdout",
     "output_type": "stream",
     "text": [
      "              Summary       \r\n",
      "        ------------------  \r\n",
      "           channels  2\r\n",
      "            samples  2\r\n",
      "         parameters  4\r\n",
      "          modifiers  4\r\n",
      "\r\n",
      "           channels  nbins\r\n",
      "         ----------  -----\r\n",
      "           channel1    2  \r\n",
      "           channel2    2  \r\n",
      "\r\n",
      "            samples\r\n",
      "         ----------\r\n",
      "         background\r\n",
      "             signal\r\n",
      "\r\n",
      "         parameters  constraint              modifiers\r\n",
      "         ----------  ----------              ----------\r\n",
      "      SigXsecOverSM  unconstrained           normfactor\r\n",
      "               lumi  constrained_by_normal   lumi\r\n",
      "uncorrshape_control  constrained_by_poisson  shapesys\r\n",
      " uncorrshape_signal  constrained_by_poisson  shapesys\r\n",
      "\r\n",
      "        measurement           poi            parameters\r\n",
      "         ----------        ----------        ----------\r\n",
      "   (*) GaussExample      SigXsecOverSM       lumi,SigXsecOverSM\r\n",
      "\r\n"
     ]
    }
   ],
   "source": [
    "! pyhf xml2json --basedir data/multichannel_histfactory data/multichannel_histfactory/config/example.xml --hide-progress | \\\n",
    "  pyhf rename -s bkg background | \\\n",
    "  pyhf inspect"
   ]
  },
  {
   "cell_type": "markdown",
   "metadata": {},
   "source": [
    "### rename modifiers"
   ]
  },
  {
   "cell_type": "code",
   "execution_count": 19,
   "metadata": {
    "scrolled": true
   },
   "outputs": [
    {
     "name": "stdout",
     "output_type": "stream",
     "text": [
      "        Summary       \r\n",
      "  ------------------  \r\n",
      "     channels  2\r\n",
      "      samples  2\r\n",
      "   parameters  3\r\n",
      "    modifiers  3\r\n",
      "\r\n",
      "     channels  nbins\r\n",
      "   ----------  -----\r\n",
      "     channel1    2  \r\n",
      "     channel2    2  \r\n",
      "\r\n",
      "      samples\r\n",
      "   ----------\r\n",
      "          bkg\r\n",
      "       signal\r\n",
      "\r\n",
      "   parameters  constraint              modifiers\r\n",
      "   ----------  ----------              ----------\r\n",
      "SigXsecOverSM  unconstrained           normfactor\r\n",
      "    corrshape  constrained_by_poisson  shapesys\r\n",
      "         lumi  constrained_by_normal   lumi\r\n",
      "\r\n",
      "  measurement           poi            parameters\r\n",
      "   ----------        ----------        ----------\r\n",
      "(*) GaussExample      SigXsecOverSM       lumi,SigXsecOverSM\r\n",
      "\r\n"
     ]
    }
   ],
   "source": [
    "! pyhf xml2json --basedir data/multichannel_histfactory data/multichannel_histfactory/config/example.xml --hide-progress | \\\n",
    "  pyhf rename -m uncorrshape_signal corrshape -m uncorrshape_control corrshape | \\\n",
    "  pyhf inspect"
   ]
  },
  {
   "cell_type": "markdown",
   "metadata": {},
   "source": [
    "### rename measurements"
   ]
  },
  {
   "cell_type": "code",
   "execution_count": 20,
   "metadata": {},
   "outputs": [
    {
     "name": "stdout",
     "output_type": "stream",
     "text": [
      "              Summary       \r\n",
      "        ------------------  \r\n",
      "           channels  2\r\n",
      "            samples  2\r\n",
      "         parameters  4\r\n",
      "          modifiers  4\r\n",
      "\r\n",
      "           channels  nbins\r\n",
      "         ----------  -----\r\n",
      "           channel1    2  \r\n",
      "           channel2    2  \r\n",
      "\r\n",
      "            samples\r\n",
      "         ----------\r\n",
      "                bkg\r\n",
      "             signal\r\n",
      "\r\n",
      "         parameters  constraint              modifiers\r\n",
      "         ----------  ----------              ----------\r\n",
      "      SigXsecOverSM  unconstrained           normfactor\r\n",
      "               lumi  constrained_by_normal   lumi\r\n",
      "uncorrshape_control  constrained_by_poisson  shapesys\r\n",
      " uncorrshape_signal  constrained_by_poisson  shapesys\r\n",
      "\r\n",
      "        measurement           poi            parameters\r\n",
      "         ----------        ----------        ----------\r\n",
      "      (*) FitConfig      SigXsecOverSM       lumi,SigXsecOverSM\r\n",
      "\r\n"
     ]
    }
   ],
   "source": [
    "! pyhf xml2json --basedir data/multichannel_histfactory data/multichannel_histfactory/config/example.xml --hide-progress | \\\n",
    "  pyhf rename --measurement GaussExample FitConfig | \\\n",
    "  pyhf inspect"
   ]
  },
  {
   "cell_type": "code",
   "execution_count": null,
   "metadata": {},
   "outputs": [],
   "source": []
  }
 ],
 "metadata": {
  "kernelspec": {
   "display_name": "Python 3",
   "language": "python",
   "name": "python3"
  },
  "language_info": {
   "codemirror_mode": {
    "name": "ipython",
    "version": 3
   },
   "file_extension": ".py",
   "mimetype": "text/x-python",
   "name": "python",
   "nbconvert_exporter": "python",
   "pygments_lexer": "ipython3",
   "version": "3.7.5"
  }
 },
 "nbformat": 4,
 "nbformat_minor": 4
}
