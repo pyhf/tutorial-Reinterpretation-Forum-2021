{
 "cells": [
  {
   "cell_type": "markdown",
   "metadata": {},
   "source": [
    "# Modifiers\n",
    "\n",
    "In our simple examples so far, we've only used two types of modifiers, but HistFactory allows for a handful of modifiers that have proven to be sufficient to model a wide range of uncertainties.\n",
    "\n",
    "We've provided a nice table of [Modifiers and Constraints](https://scikit-hep.org/pyhf/intro.html#id14) in the introduction of our pyhf documentation to use as reference.\n",
    "\n",
    "![modifiers and constraints](assets/modifiers_and_constraints.png)\n",
    "\n",
    "In each of the sections below, we will explore the impact of modifiers on the data."
   ]
  },
  {
   "cell_type": "code",
   "execution_count": 1,
   "metadata": {},
   "outputs": [],
   "source": [
    "import pyhf\n",
    "import ipywidgets as widgets"
   ]
  },
  {
   "cell_type": "markdown",
   "metadata": {},
   "source": [
    "## Unconstrained Normalisation (normfactor)\n",
    "\n",
    "This is a simple scaling of a sample (primarily used for signal strengths). Controlled by a single nuisance parameter."
   ]
  },
  {
   "cell_type": "code",
   "execution_count": 2,
   "metadata": {},
   "outputs": [
    {
     "name": "stdout",
     "output_type": "stream",
     "text": [
      "  aux data: []\n",
      "   nominal: [ 5. 10.]\n",
      "2x nominal: [10. 20.]\n",
      "3x nominal: [15. 30.]\n"
     ]
    },
    {
     "data": {
      "application/vnd.jupyter.widget-view+json": {
       "model_id": "be8a7185f4e449c7a19b0f7df885dfaa",
       "version_major": 2,
       "version_minor": 0
      },
      "text/plain": [
       "interactive(children=(IntSlider(value=1, description='normfactor', max=10), Output()), _dom_classes=('widget-i…"
      ]
     },
     "metadata": {},
     "output_type": "display_data"
    }
   ],
   "source": [
    "model = pyhf.Model(\n",
    "  {\n",
    "    \"channels\": [\n",
    "      {\n",
    "        \"name\": \"singlechannel\",\n",
    "        \"samples\": [\n",
    "          {\n",
    "            \"name\": \"signal\",\n",
    "            \"data\": [5.0, 10.0],\n",
    "            \"modifiers\": [\n",
    "              {\"name\": \"mynormfactor\", \"type\": \"normfactor\", \"data\": None}\n",
    "            ]\n",
    "          }\n",
    "        ]\n",
    "      }\n",
    "    ]\n",
    "  }, poi_name=None\n",
    ")\n",
    "\n",
    "print(f'  aux data: {model.config.auxdata}')\n",
    "print(f'   nominal: {model.expected_data([1.0])}')\n",
    "print(f'2x nominal: {model.expected_data([2.0])}')\n",
    "print(f'3x nominal: {model.expected_data([3.0])}')\n",
    "\n",
    "@widgets.interact(normfactor=(0, 10, 1))\n",
    "def interact(normfactor=1):\n",
    "    print(f'normfactor = {normfactor:2d}: {model.expected_data([normfactor])}')"
   ]
  },
  {
   "cell_type": "markdown",
   "metadata": {},
   "source": [
    "## Normalisation Uncertainty (normsys)\n",
    "\n",
    "This is a simple scaling of a sample, but constrained! Controlled by a single nuisance parameter."
   ]
  },
  {
   "cell_type": "code",
   "execution_count": 3,
   "metadata": {},
   "outputs": [
    {
     "name": "stdout",
     "output_type": "stream",
     "text": [
      "  aux data: [0.0]\n",
      "      down: [ 5.5 11.  -1. ]\n",
      "   nominal: [ 5. 10.  0.]\n",
      "        up: [4.5 9.  1. ]\n"
     ]
    },
    {
     "data": {
      "application/vnd.jupyter.widget-view+json": {
       "model_id": "274184c1c9774791933fef9224e04253",
       "version_major": 2,
       "version_minor": 0
      },
      "text/plain": [
       "interactive(children=(FloatSlider(value=0.0, description='normsys', max=1.0, min=-1.0), Output()), _dom_classe…"
      ]
     },
     "metadata": {},
     "output_type": "display_data"
    }
   ],
   "source": [
    "model = pyhf.Model(\n",
    "  {\n",
    "    \"channels\": [\n",
    "      {\n",
    "        \"name\": \"singlechannel\",\n",
    "        \"samples\": [\n",
    "          {\n",
    "            \"name\": \"signal\",\n",
    "            \"data\": [5.0, 10.0],\n",
    "            \"modifiers\": [\n",
    "              {\"name\": \"mynormsys\", \"type\": \"normsys\", \"data\": {\"hi\": 0.9, \"lo\": 1.1}}\n",
    "            ]\n",
    "          }\n",
    "        ]\n",
    "      }\n",
    "    ]\n",
    "  }, poi_name=None\n",
    ")\n",
    "\n",
    "print(f'  aux data: {model.config.auxdata}')\n",
    "print(f'      down: {model.expected_data([-1.0])}')\n",
    "print(f'   nominal: {model.expected_data([0.0])}')\n",
    "print(f'        up: {model.expected_data([1.0])}')\n",
    "\n",
    "@widgets.interact(normsys=(-1, 1, 0.1))\n",
    "def interact(normsys=0):\n",
    "    print(f'normsys = {normsys:4.1f}: {model.expected_data([normsys])}')"
   ]
  },
  {
   "cell_type": "markdown",
   "metadata": {},
   "source": [
    "What do you think happens if we switch `\"hi\"` and `\"lo\"`?"
   ]
  },
  {
   "cell_type": "markdown",
   "metadata": {},
   "source": [
    "## Correlated Shape (histosys)\n",
    "\n",
    "A shape uncertainty, but fully correlated across bins. Controlled by a single nuisance parameter.\n",
    "\n",
    "Unlike most other modifiers, this is an additive effect."
   ]
  },
  {
   "cell_type": "code",
   "execution_count": 4,
   "metadata": {},
   "outputs": [
    {
     "name": "stdout",
     "output_type": "stream",
     "text": [
      "  aux data: [0.0]\n",
      "      down: [ 5. 18. -1.]\n",
      "   nominal: [ 5. 10.  0.]\n",
      "        up: [15. 22.  1.]\n"
     ]
    },
    {
     "data": {
      "application/vnd.jupyter.widget-view+json": {
       "model_id": "354840b01fdd4a989b5be519c29f9eec",
       "version_major": 2,
       "version_minor": 0
      },
      "text/plain": [
       "interactive(children=(FloatSlider(value=0.0, description='histosys', max=1.0, min=-1.0), Output()), _dom_class…"
      ]
     },
     "metadata": {},
     "output_type": "display_data"
    }
   ],
   "source": [
    "model = pyhf.Model(\n",
    "  {\n",
    "    \"channels\": [\n",
    "      {\n",
    "        \"name\": \"singlechannel\",\n",
    "        \"samples\": [\n",
    "          {\n",
    "            \"name\": \"signal\",\n",
    "            \"data\": [5.0, 10.0],\n",
    "            \"modifiers\": [\n",
    "              {\"name\": \"myhistosys\", \"type\": \"histosys\", \"data\": {\"hi_data\": [15,22], \"lo_data\": [5,18]}}\n",
    "            ]\n",
    "          }\n",
    "        ]\n",
    "      }\n",
    "    ]\n",
    "  }, poi_name=None\n",
    ")\n",
    "\n",
    "print(f'  aux data: {model.config.auxdata}')\n",
    "print(f'      down: {model.expected_data([-1.0])}')\n",
    "print(f'   nominal: {model.expected_data([0.0])}')\n",
    "print(f'        up: {model.expected_data([1.0])}')\n",
    "\n",
    "@widgets.interact(histosys=(-1, 1, 0.1))\n",
    "def interact(histosys=0):\n",
    "    print(f'normsys = {histosys:4.1f}: {model.expected_data([histosys])}')"
   ]
  },
  {
   "cell_type": "markdown",
   "metadata": {},
   "source": [
    "What's going on with the data? As this is a shape-related uncertainty, we're providing (absolute) histograms for the modifier to interpolate the up/down variations with respect to the nominal (the sample data)."
   ]
  },
  {
   "cell_type": "markdown",
   "metadata": {},
   "source": [
    "## Uncorrelated Shape (shapesys)\n",
    "\n",
    "A shape uncertainty, but fully **uncorrelated** across bins. Controlled by $n$ nuisance parameters (one for each bin)."
   ]
  },
  {
   "cell_type": "code",
   "execution_count": 5,
   "metadata": {},
   "outputs": [
    {
     "name": "stdout",
     "output_type": "stream",
     "text": [
      "aux data: [25.0, 6.25]\n",
      "(1x, 1x): [ 5.   10.   25.    6.25]\n",
      "(2x, 2x): [10.  20.  50.  12.5]\n",
      "(3x, 3x): [15.   30.   75.   18.75]\n"
     ]
    },
    {
     "data": {
      "application/vnd.jupyter.widget-view+json": {
       "model_id": "6c8dc3bcfe8b4609923a33d6c4498d3e",
       "version_major": 2,
       "version_minor": 0
      },
      "text/plain": [
       "interactive(children=(IntSlider(value=1, description='shapesys_0', max=10), IntSlider(value=1, description='sh…"
      ]
     },
     "metadata": {},
     "output_type": "display_data"
    }
   ],
   "source": [
    "model = pyhf.Model(\n",
    "  {\n",
    "    \"channels\": [\n",
    "      {\n",
    "        \"name\": \"singlechannel\",\n",
    "        \"samples\": [\n",
    "          {\n",
    "            \"name\": \"signal\",\n",
    "            \"data\": [5.0, 10.0],\n",
    "            \"modifiers\": [\n",
    "              {\"name\": \"myshapesys\", \"type\": \"shapesys\", \"data\": [1,4]}\n",
    "            ]\n",
    "          }\n",
    "        ]\n",
    "      }\n",
    "    ]\n",
    "  }, poi_name=None\n",
    ")\n",
    "\n",
    "print(f'aux data: {model.config.auxdata}')\n",
    "print(f'(1x, 1x): {model.expected_data([1.0, 1.0])}')\n",
    "print(f'(2x, 2x): {model.expected_data([2.0, 2.0])}')\n",
    "print(f'(3x, 3x): {model.expected_data([3.0, 3.0])}')\n",
    "\n",
    "@widgets.interact(shapesys_0=(0, 10, 1), shapesys_1=(0, 10, 1))\n",
    "def interact(shapesys_0=1, shapesys_1=1):\n",
    "    print(f'shapesys = ({shapesys_0:2d}, {shapesys_1:2d}): {model.expected_data([shapesys_0, shapesys_1])}')"
   ]
  },
  {
   "cell_type": "markdown",
   "metadata": {},
   "source": [
    "Note the differences with `histosys`. Here, we specify the absolute uncertainty which is fed into the Poisson constraint. This tends to feel more like a bin-by-bin (bin-wise?) constrained `normfactor`."
   ]
  },
  {
   "cell_type": "markdown",
   "metadata": {},
   "source": [
    "## MC Statistical Uncertainty (staterror)\n",
    "\n",
    "Bin-wise scale factor. This is used to model the uncertainty in the bins due to Monte Carlo statistics. Controlled by $n$ nuisance parameters (one for each bin).\n",
    "\n",
    "In particular, this tends to be correlated across samples as they're usually modeled by the same MC generator. Unlike `shapesys` which is constrained by a Poisson, this modifier is constrained by a Gaussian."
   ]
  },
  {
   "cell_type": "code",
   "execution_count": 6,
   "metadata": {},
   "outputs": [
    {
     "name": "stdout",
     "output_type": "stream",
     "text": [
      "aux data: [1.0, 1.0]\n",
      "(1x, 1x): [ 5. 10.  1.  1.]\n",
      "(2x, 2x): [10. 20.  2.  2.]\n",
      "(3x, 3x): [15. 30.  3.  3.]\n"
     ]
    },
    {
     "data": {
      "application/vnd.jupyter.widget-view+json": {
       "model_id": "09e4b7738d0b4a908ccd8646e36b0ec9",
       "version_major": 2,
       "version_minor": 0
      },
      "text/plain": [
       "interactive(children=(IntSlider(value=1, description='staterror_0', max=10), IntSlider(value=1, description='s…"
      ]
     },
     "metadata": {},
     "output_type": "display_data"
    }
   ],
   "source": [
    "model = pyhf.Model(\n",
    "  {\n",
    "    \"channels\": [\n",
    "      {\n",
    "        \"name\": \"singlechannel\",\n",
    "        \"samples\": [\n",
    "          {\n",
    "            \"name\": \"signal\",\n",
    "            \"data\": [5.0, 10.0],\n",
    "            \"modifiers\": [\n",
    "              {\"name\": \"mystaterror\", \"type\": \"staterror\", \"data\": [1.0, 2.0]}\n",
    "            ]\n",
    "          }\n",
    "        ]\n",
    "      }\n",
    "    ]\n",
    "  }, poi_name=None\n",
    ")\n",
    "\n",
    "print(f'aux data: {model.config.auxdata}')\n",
    "print(f'(1x, 1x): {model.expected_data([1.0, 1.0])}')\n",
    "print(f'(2x, 2x): {model.expected_data([2.0, 2.0])}')\n",
    "print(f'(3x, 3x): {model.expected_data([3.0, 3.0])}')\n",
    "\n",
    "@widgets.interact(staterror_0=(0, 10, 1), staterror_1=(0, 10, 1))\n",
    "def interact(staterror_0=1, staterror_1=1):\n",
    "    print(f'staterror = ({staterror_0:2d}, {staterror_1:2d}): {model.expected_data([staterror_0, staterror_1])}')"
   ]
  },
  {
   "cell_type": "markdown",
   "metadata": {},
   "source": [
    "This looks/feels a lot like `shapesys`. Is there a difference in the expected data? What happens to the data for the `staterror`? (*Hint: it has to do with the Gaussian constraint.*)"
   ]
  },
  {
   "cell_type": "markdown",
   "metadata": {},
   "source": [
    "## Luminosity (lumi)\n",
    "\n",
    "A global scale factor that applies across channel and sample boundaries. Controlled by a single nuisance parameter."
   ]
  },
  {
   "cell_type": "code",
   "execution_count": 7,
   "metadata": {},
   "outputs": [
    {
     "name": "stdout",
     "output_type": "stream",
     "text": [
      "aux data: [1.0]\n",
      "(1x, 1x): [ 5. 10.  1.]\n",
      "(2x, 2x): [10. 20.  2.]\n",
      "(3x, 3x): [15. 30.  3.]\n"
     ]
    },
    {
     "data": {
      "application/vnd.jupyter.widget-view+json": {
       "model_id": "9fe093051e9b49689828a86ba99a0309",
       "version_major": 2,
       "version_minor": 0
      },
      "text/plain": [
       "interactive(children=(IntSlider(value=1, description='lumi', max=10), Output()), _dom_classes=('widget-interac…"
      ]
     },
     "metadata": {},
     "output_type": "display_data"
    }
   ],
   "source": [
    "model = pyhf.Model(\n",
    "  {\n",
    "    \"channels\": [\n",
    "      {\n",
    "        \"name\": \"singlechannel\",\n",
    "        \"samples\": [\n",
    "          {\n",
    "            \"name\": \"signal\",\n",
    "            \"data\": [5.0, 10.0],\n",
    "            \"modifiers\": [\n",
    "              {\"name\": \"lumi\", \"type\": \"lumi\", \"data\": None}\n",
    "            ]\n",
    "          }\n",
    "        ]\n",
    "      }\n",
    "    ],\n",
    "    \"parameters\": [{ \"name\":\"lumi\", \"auxdata\":[1.0],\"sigmas\":[0.017], \"bounds\":[[0.915,1.085]],\"inits\":[1.0] }]\n",
    "  }, poi_name=None\n",
    ")\n",
    "\n",
    "print(f'aux data: {model.config.auxdata}')\n",
    "print(f'(1x, 1x): {model.expected_data([1.0, 1.0])}')\n",
    "print(f'(2x, 2x): {model.expected_data([2.0, 2.0])}')\n",
    "print(f'(3x, 3x): {model.expected_data([3.0, 3.0])}')\n",
    "\n",
    "@widgets.interact(lumi=(0, 10, 1))\n",
    "def interact(lumi=1):\n",
    "    print(f'lumi = {lumi:2d}: {model.expected_data([lumi])}')"
   ]
  },
  {
   "cell_type": "markdown",
   "metadata": {},
   "source": [
    "## Data-driven Shape (shapefactor)\n",
    "\n",
    "Bin-wise multiplicative parameters to support data-driven estimation of sample rates (e.g. think of estimating multi-jet backgrounds). Controlled by $n$ nuisance parameters (one for each bin).\n",
    "\n",
    "This feels like a bin-wise `normfactor`."
   ]
  },
  {
   "cell_type": "code",
   "execution_count": 8,
   "metadata": {},
   "outputs": [
    {
     "name": "stdout",
     "output_type": "stream",
     "text": [
      "aux data: []\n",
      "(1x, 1x): [ 5. 10.]\n",
      "(2x, 2x): [10. 20.]\n",
      "(3x, 3x): [15. 30.]\n"
     ]
    },
    {
     "data": {
      "application/vnd.jupyter.widget-view+json": {
       "model_id": "f05ca0afc03146688d6ff23dbc6f64dc",
       "version_major": 2,
       "version_minor": 0
      },
      "text/plain": [
       "interactive(children=(IntSlider(value=1, description='shapefactor_0', max=10), IntSlider(value=1, description=…"
      ]
     },
     "metadata": {},
     "output_type": "display_data"
    }
   ],
   "source": [
    "model = pyhf.Model(\n",
    "  {\n",
    "    \"channels\": [\n",
    "      {\n",
    "        \"name\": \"singlechannel\",\n",
    "        \"samples\": [\n",
    "          {\n",
    "            \"name\": \"signal\",\n",
    "            \"data\": [5.0, 10.0],\n",
    "            \"modifiers\": [\n",
    "              {\"name\": \"myshapefactor\", \"type\": \"shapefactor\", \"data\": None}\n",
    "            ]\n",
    "          }\n",
    "        ]\n",
    "      }\n",
    "    ]\n",
    "  }, poi_name=None\n",
    ")\n",
    "\n",
    "print(f'aux data: {model.config.auxdata}')\n",
    "print(f'(1x, 1x): {model.expected_data([1.0, 1.0])}')\n",
    "print(f'(2x, 2x): {model.expected_data([2.0, 2.0])}')\n",
    "print(f'(3x, 3x): {model.expected_data([3.0, 3.0])}')\n",
    "\n",
    "@widgets.interact(shapefactor_0=(0, 10, 1), shapefactor_1=(0, 10, 1))\n",
    "def interact(shapefactor_0=1, shapefactor_1=1):\n",
    "    print(f'staterror = ({shapefactor_0:2d}, {shapefactor_1:2d}): {model.expected_data([shapefactor_0, shapefactor_1])}')"
   ]
  },
  {
   "cell_type": "markdown",
   "metadata": {},
   "source": [
    "## Correlating Modifiers\n",
    "\n",
    "Like in HistFactory, modifiers are controlled by parameters which are named based on the name you assign to the modifier. Therefore, as long as the modifiers you want to correlate are \"mostly\" compatible (e.g. same number of nuisance parameters allocated), you can correlate them!\n",
    "\n",
    "Let's repeat the `normsys` example, and through in a `histosys` on top - both controlled by a single nuisance parameter."
   ]
  },
  {
   "cell_type": "code",
   "execution_count": 9,
   "metadata": {},
   "outputs": [
    {
     "name": "stdout",
     "output_type": "stream",
     "text": [
      "  aux data: [0.0]\n",
      "      down: [ 5.5 19.8 -1. ]\n",
      "   nominal: [ 5. 10.  0.]\n",
      "        up: [13.5 19.8  1. ]\n"
     ]
    },
    {
     "data": {
      "application/vnd.jupyter.widget-view+json": {
       "model_id": "73a282c5220148bcae41971cd3b3acb0",
       "version_major": 2,
       "version_minor": 0
      },
      "text/plain": [
       "interactive(children=(FloatSlider(value=0.0, description='imshared', max=1.0, min=-1.0), Output()), _dom_class…"
      ]
     },
     "metadata": {},
     "output_type": "display_data"
    }
   ],
   "source": [
    "model = pyhf.Model(\n",
    "  {\n",
    "    \"channels\": [\n",
    "      {\n",
    "        \"name\": \"singlechannel\",\n",
    "        \"samples\": [\n",
    "          {\n",
    "            \"name\": \"signal\",\n",
    "            \"data\": [5.0, 10.0],\n",
    "            \"modifiers\": [\n",
    "              {\"name\": \"imshared\", \"type\": \"normsys\", \"data\": {\"hi\": 0.9, \"lo\": 1.1}},\n",
    "              {\"name\": \"imshared\", \"type\": \"histosys\", \"data\": {\"hi_data\": [15,22], \"lo_data\": [5,18]}}\n",
    "            ]\n",
    "          }\n",
    "        ]\n",
    "      }\n",
    "    ]\n",
    "  }, poi_name=None\n",
    ")\n",
    "\n",
    "print(f'  aux data: {model.config.auxdata}')\n",
    "print(f'      down: {model.expected_data([-1.0])}')\n",
    "print(f'   nominal: {model.expected_data([0.0])}')\n",
    "print(f'        up: {model.expected_data([1.0])}')\n",
    "\n",
    "@widgets.interact(imshared=(-1, 1, 0.1))\n",
    "def interact(imshared=0):\n",
    "    print(f'imshared = {imshared:4.1f}: {model.expected_data([imshared])}')"
   ]
  },
  {
   "cell_type": "markdown",
   "metadata": {},
   "source": [
    "Isn't that crazy? We're seeing the impact of a multiplicative bin-wise correlated shape modification convoluted with an additive normalization uncertainty - both constrained by a Gaussian."
   ]
  }
 ],
 "metadata": {
  "kernelspec": {
   "display_name": "Python 3",
   "language": "python",
   "name": "python3"
  },
  "language_info": {
   "codemirror_mode": {
    "name": "ipython",
    "version": 3
   },
   "file_extension": ".py",
   "mimetype": "text/x-python",
   "name": "python",
   "nbconvert_exporter": "python",
   "pygments_lexer": "ipython3",
   "version": "3.7.5"
  }
 },
 "nbformat": 4,
 "nbformat_minor": 4
}
